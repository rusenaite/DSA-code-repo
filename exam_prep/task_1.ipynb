{
 "cells": [
  {
   "cell_type": "markdown",
   "id": "5fcc266b",
   "metadata": {},
   "source": [
    "Implement BFS and DFS traversal to search for a file.\n",
    "---"
   ]
  },
  {
   "cell_type": "code",
   "execution_count": 2,
   "id": "1c0b9edb",
   "metadata": {},
   "outputs": [],
   "source": [
    "from collections import deque\n",
    "\n",
    "class FileNode:\n",
    "    def __init__(self, name, is_file=False):\n",
    "        self.name = name\n",
    "        self.is_file = is_file\n",
    "        self.children = []\n",
    "\n",
    "    def add_child(self, child_node):\n",
    "        self.children.append(child_node)\n",
    "\n",
    "def bfs_search(root, target_filename):\n",
    "    visited = set()\n",
    "    queue = deque([root])\n",
    "\n",
    "    while queue:\n",
    "        current = queue.popleft()\n",
    "        if current.is_file and current.name == target_filename:\n",
    "            return current\n",
    "        visited.add(current)\n",
    "        for child in current.children:\n",
    "            if child not in visited:\n",
    "                queue.append(child)\n",
    "    return None\n",
    "\n",
    "def dfs_search(root, target_filename, visited=None):\n",
    "    if visited is None:\n",
    "        visited = set()\n",
    "    if root in visited:\n",
    "        return None\n",
    "    visited.add(root)\n",
    "\n",
    "    if root.is_file and root.name == target_filename:\n",
    "        return root\n",
    "\n",
    "    for child in root.children:\n",
    "        found = dfs_search(child, target_filename, visited)\n",
    "        if found:\n",
    "            return found\n",
    "    return None"
   ]
  },
  {
   "cell_type": "markdown",
   "id": "1da25697",
   "metadata": {},
   "source": [
    "Which traversal is better for shallow file structures? Deep ones? Why?\n",
    "---"
   ]
  },
  {
   "cell_type": "markdown",
   "id": "d0c014c3",
   "metadata": {},
   "source": [
    "Which traversal is better for which file structure?\n",
    "BFS is better for shallow file structures, where the desired file is likely to be found in a top-level folder.\n",
    "DFS is better for deep file structures, where files are often nested many layers down.\n",
    "\n",
    "Why?\n",
    "BFS explores level by level, quickly finding files close to the root.\n",
    "DFS explores one branch fully before backtracking, useful for deeply nested files but can be inefficient in wide file systems (like lots of branches in a tree)."
   ]
  }
 ],
 "metadata": {
  "kernelspec": {
   "display_name": "Python 3",
   "language": "python",
   "name": "python3"
  },
  "language_info": {
   "codemirror_mode": {
    "name": "ipython",
    "version": 3
   },
   "file_extension": ".py",
   "mimetype": "text/x-python",
   "name": "python",
   "nbconvert_exporter": "python",
   "pygments_lexer": "ipython3",
   "version": "3.12.1"
  }
 },
 "nbformat": 4,
 "nbformat_minor": 5
}
