{
 "cells": [
  {
   "cell_type": "markdown",
   "id": "630fb5b3",
   "metadata": {},
   "source": [
    "You are given such opinion:  \n",
    "**\"BSTs are always better than hash tables for search operations.\"**  \n",
    "- Argue for this statement (when it is true?)\n",
    "- Argue against it (when it fails?)"
   ]
  },
  {
   "cell_type": "markdown",
   "id": "e0b3c455",
   "metadata": {},
   "source": [
    "\n",
    "## Arguing for\n",
    "\n",
    "#### *BSTs ARE always better than hash tables for search operations.*\n",
    "\n",
    "*Main top qualities (what problems BST best at solving)*  \n",
    "Binary Search Trees can outperform hash tables when ordered data and range queries are required. BSTs maintain in-order structure, allowing:\n",
    "- Finding minimum/maximum values\n",
    "- Performing range queries (e.g., all keys between 10 and 50)\n",
    "- Sorted traversal in O(n)\n",
    "\n",
    "*Space*  \n",
    "Hash tables may require extra space due to resizing or collision resolution (especially open addressing). In comparison, a balanced BST like AVL or Red-Black Tree has predictable space usage and no hash function overhead.\n",
    "\n",
    "*Performance (O notation)*  \n",
    "BTS offer predictable performance. Balanced BSTs guarantee worst case of O(log n) time complexity for search, insert, and delete. Hash tables offer O(n) in worst case (when bad hash functions or high collision rate).\n",
    "\n",
    "\n",
    "## Arguing against\n",
    "\n",
    "#### *BSTs ARE NOT always better than hash tables for search operations.* or *Hash tables often outperform BSTs for search operations, depending on context.*\n",
    "\n",
    "*Main top qualities*  \n",
    "Hash tables are specially effective when:\n",
    "- No ordering needed\n",
    "- Keys are hashable (e.g., strings, integers)\n",
    "- Counting items\n",
    "- Caching (LRU)\n",
    "- Lookup tables\n",
    "\n",
    "*Use*  \n",
    "In most languages, hash tables are built-in and optimized, in comparison to self-balancing BSTs which you need to implement yourself.\n",
    "\n",
    "*Performance*  \n",
    "Hash tables offer O(1) average case lookup time, which is much faster than O(log n) of balanced BSTs in most cases. When very large datasets exist with frequent insertions and lookups, hash tables usually outperform BSTs. Performance can go down if collisions are often.\n",
    "\n",
    "---\n",
    "\n",
    "**When aguing against or for given statement about data structures, we need to analyze problem we would be solving with the data structure, nature of the data, and required operations to do with the data (e.g., search, range query, sorting, counting). That is how we decide if selected data structure is right for us or not. The best data structure is always problem-dependent.**"
   ]
  }
 ],
 "metadata": {
  "language_info": {
   "name": "python"
  }
 },
 "nbformat": 4,
 "nbformat_minor": 5
}
